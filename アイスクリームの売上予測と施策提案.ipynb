{
  "nbformat": 4,
  "nbformat_minor": 0,
  "metadata": {
    "colab": {
      "provenance": [],
      "authorship_tag": "ABX9TyMuUSOCX3w+zvT4ZSoOKsd9",
      "include_colab_link": true
    },
    "kernelspec": {
      "name": "python3",
      "display_name": "Python 3"
    },
    "language_info": {
      "name": "python"
    }
  },
  "cells": [
    {
      "cell_type": "markdown",
      "metadata": {
        "id": "view-in-github",
        "colab_type": "text"
      },
      "source": [
        "<a href=\"https://colab.research.google.com/github/yndtky/portforio/blob/main/%E3%82%A2%E3%82%A4%E3%82%B9%E3%82%AF%E3%83%AA%E3%83%BC%E3%83%A0%E3%81%AE%E5%A3%B2%E4%B8%8A%E4%BA%88%E6%B8%AC%E3%81%A8%E6%96%BD%E7%AD%96%E6%8F%90%E6%A1%88.ipynb\" target=\"_parent\"><img src=\"https://colab.research.google.com/assets/colab-badge.svg\" alt=\"Open In Colab\"/></a>"
      ]
    },
    {
      "cell_type": "markdown",
      "source": [
        "#***時系列モデルを活用した売上予測***\n",
        "\n",
        "#**概要**\n",
        "--------------------------------------------------------------------------------\n",
        "kerasを使って３１アイスクリームの売上高の時系列予測を行ないます。\n",
        "\n",
        "予測結果からマーケティング施策の提案を行ってみたいと思います。"
      ],
      "metadata": {
        "id": "Z1ksTLcszRd7"
      }
    },
    {
      "cell_type": "markdown",
      "source": [
        "#**第一部：分析編**\n",
        "--------------------------------------------------------------------------------"
      ],
      "metadata": {
        "id": "oHWlH6_V13mm"
      }
    },
    {
      "cell_type": "markdown",
      "source": [
        "\n",
        "\n",
        "**使用データと分析環境**\n",
        "\n",
        "・ここでは31アイスの売上の時系列予測を行なうにあたり、どのようなデータを準備したのかについてまとめます。\n",
        "\n",
        "・（）の中はデータの取得タイミングと取得元です。\n",
        "\n",
        "・今回はkerasを勉強するところから始まったことなどもあり、最新の売上予測になっていません。\n",
        "*   **目的変数**：31アイスの売上データ（四半期ごと、[31アイスHP](https://www.31ice.co.jp/contents/company/ir/index.html)）\n",
        "*   **説明変数**：\n",
        "  *   31Club*の会員者数（四半期ごと、[31アイスHP](https://www.31ice.co.jp/contents/company/ir/index.html)）\n",
        "  *   東京都の消費支出データ（月ごと、[都民のくらしむき（月報）（年報）](https://www.toukei.metro.tokyo.lg.jp/seikei/sb-index.htm) 内の品目別時系列データ）\n",
        "  *   東京都の最高気温データ（月ごと、[気象庁HP](https://www.data.jma.go.jp/obd/stats/etrn/view/monthly_s3.php?prec_no=44&block_no=47662&year=&month=&day=&view=a2)）\n",
        "*   データの使用期間：2014年～2023年\n",
        "*   環境や分析ツールなど：使用言語Python、深層学習フレームワークkerasを使った時系列予測\n",
        "\n",
        "※31Clubとは31アイスの会員制アプリのことであり、各種クーポンなど様々なサービスが受けられます。\n"
      ],
      "metadata": {
        "id": "MoDoxQQZ2EeP"
      }
    },
    {
      "cell_type": "markdown",
      "source": [
        "ここで、今回予測する売上データについて少し見てみます。これは2014年～2023年の四半期ごと単体の売上高をグラフにしたものです。"
      ],
      "metadata": {
        "id": "XXMubQC6CDeg"
      }
    },
    {
      "cell_type": "markdown",
      "source": [
        "![３１アイスクリームの売上(2008-2023)](https://github.com/yndtky/portforio/blob/main/31_quaterly_sales_full.png?raw=true)"
      ],
      "metadata": {
        "id": "RqN8-rZM28gN"
      }
    },
    {
      "cell_type": "markdown",
      "source": [
        "直近２年で売上が増加しています。また、グラフでは少しわかりずらいですが、売上が１年で一番落ち込む直前が第４四半期です（Q4）。第３四半期では売上は最大になりますが、第２四半期よりは売れ行きは落ちているように見えます。（Q1→Q2の傾きよりもQ2→Q3の傾きが緩やか）"
      ],
      "metadata": {
        "id": "s-YQB7y_3k8P"
      }
    },
    {
      "cell_type": "markdown",
      "source": [
        "次に、東京都の公開している統計データ（都民のくらしむき（年報）の品目別時系列データ）からアイスクリーム・シャーベットの行を抜き出し、結合してアイスクリーム・シャーベットの消費支出データを作成します。"
      ],
      "metadata": {
        "id": "MoWFMkqpyzlu"
      }
    },
    {
      "cell_type": "code",
      "source": [
        "#データの前処理\n",
        "import pandas as pd\n",
        "import numpy as np\n",
        "import glob\n",
        "import os\n",
        "import matplotlib.pyplot as plt\n",
        "import japanize_matplotlib\n",
        "import pandas as pd\n",
        "from matplotlib.ticker import FuncFormatter\n",
        "\n",
        "folder_path = \"/成果物作成/消費データ\"\n",
        "\n",
        "# フォルダ内のすべてのExcelファイルを検索\n",
        "excel_files = glob.glob(os.path.join(folder_path, '*.xlsx'))\n",
        "\n",
        "# 空のリストを用意して、必要なデータを格納\n",
        "extracted_data = []\n",
        "\n",
        "# すべてのExcelファイルを読み込み、条件に合致するデータを抽出してリストに追加\n",
        "for file in excel_files:\n",
        "    df = pd.read_excel(file)\n",
        "\n",
        "    # 左から5番目の列を使用して条件をチェック\n",
        "    if df.shape[1] > 4:  # 列数が5以上か確認\n",
        "        condition_rows = df[df.iloc[:, 4] == 'アイスクリーム・シャーベット']\n",
        "\n",
        "        # 条件に合致する行の左から9列目から20列目の値を抽出し、データフレームとしてリストに追加\n",
        "        for _, row in condition_rows.iterrows():\n",
        "            extracted_data.append(row.iloc[8:20].to_frame())\n",
        "    else:\n",
        "        print(f\"The file {file} does not have enough columns.\")\n",
        "\n",
        "# 抽出したデータフレームを列方向に結合\n",
        "if extracted_data:\n",
        "    combined_df = pd.concat(extracted_data, axis=1, ignore_index=True)\n",
        "else:\n",
        "    combined_df = pd.DataFrame()\n",
        "# 最終行を除いたデータフレームを作成\n",
        "if not combined_df.empty:\n",
        "    combined_df = combined_df.iloc[:-1, :]\n",
        "else:\n",
        "    combined_df = pd.DataFrame()\n",
        "combined_df.iloc[0,18]=499\n",
        "\n",
        "# データフレームの設定例（仮データを生成）\n",
        "years = [2002 + i for i in range(22)]  # 2002年から2023年まで\n",
        "months = list(range(1, 13))\n",
        "index = [(y, m) for y in years for m in months]\n",
        "data = [1000 * i for i in range(len(index))]  # 仮データ生成\n",
        "final_df.index = pd.MultiIndex.from_tuples(index, names=['Year', 'Month'])\n",
        "\n",
        "# 数値をカンマ区切りの形式で表示する関数\n",
        "def thousand_comma(x, pos):\n",
        "    return f'{int(x):,}'\n",
        "\n",
        "# プロットの設定\n",
        "plt.figure(figsize=(15, 5))\n",
        "x_labels = [f'{year}_{month}' for year, month in index]\n",
        "x_ticks = range(11, len(final_df), 12)  # 毎年の1月の位置に目盛りを設定\n",
        "y_values = final_df.values\n",
        "\n",
        "# プロット\n",
        "plt.plot(range(len(final_df)), y_values)\n",
        "plt.title('東京都のアイスクリームの消費')\n",
        "plt.xlabel('年月')\n",
        "plt.ylabel('消費額 (円)')\n",
        "plt.xticks(x_ticks, [x_labels[i] for i in x_ticks], rotation=45)  # 年ごとの1月を横軸に設定\n",
        "plt.xlim(left=0, right=len(final_df)-1)  # x軸の表示範囲をデータ範囲全体に設定\n",
        "plt.gca().yaxis.set_major_formatter(FuncFormatter(thousand_comma))  # 縦軸のフォーマット設定\n",
        "plt.grid(True)\n",
        "\n",
        "plt.show()\n"
      ],
      "metadata": {
        "id": "k3VGtdLv3NjE"
      },
      "execution_count": null,
      "outputs": []
    },
    {
      "cell_type": "markdown",
      "source": [
        "東京都のアイスクリームの消費支出のデータは月ごとのデータであるため、横軸はyyyy/mm表記になっています。こちらも売上データ同様、直近２年の上昇トレンドが観察されます。"
      ],
      "metadata": {
        "id": "nQgBzTRtqMdI"
      }
    },
    {
      "cell_type": "markdown",
      "source": [
        "![東京都のアイスクリームの消費支出データ（勤労世帯＋無職世帯）](https://github.com/yndtky/portforio/blob/main/ice_consumption_tokyo_1.png?raw=true)\n"
      ],
      "metadata": {
        "id": "ZVo0IMID1NI9"
      }
    },
    {
      "cell_type": "markdown",
      "source": [
        "次に今回ポイントになる31club（会員制アプリ）の会員者数とその増加率の推移です。\n",
        "\n",
        "会員数については一見順調に右肩上がりをしていますが、増加率を見てみると2019年Q4で大きく低下、2020年に持ち直すも、その後は下落トレンドに見えます。"
      ],
      "metadata": {
        "id": "f5ZVPL6AFVx6"
      }
    },
    {
      "cell_type": "markdown",
      "source": [
        "\n",
        "![31アプリの会員者数](https://github.com/yndtky/portforio/blob/main/apli_members_4.png?raw=true)"
      ],
      "metadata": {
        "id": "Gu8freHi3Gni"
      }
    },
    {
      "cell_type": "markdown",
      "source": [
        "※2021Q1については公表がなかったので、2020Q4と2021Q2の平均値として補間しました。ただ、IR資料に数値が載ってこないということは、公表できないくらいの値だったのか、それとも単に社内でアプリ会員者数の数値が重要視されていなかったのか（ローンチ初期で、そこまで良い数字でないならわざわざ公表することもないだろう）など、色々な理由を考えることはできます。\n",
        "\n",
        "今回は主に次の理由から、前後の会員者数の平均値で値を代用することにしました。\n",
        "*   マーケディング施策の内容を時系列モデルに組み込んでいない\n",
        "*   増加率に上下はあるものの、常にプラスを保っていること\n",
        "\n"
      ],
      "metadata": {
        "id": "CLVXHNCstR31"
      }
    },
    {
      "cell_type": "markdown",
      "source": [
        "#***Kerasによる売上予測（LSTMモデルを使用）***\n",
        "--------------------------------------------------------------------------------\n",
        "以上の準備のもと、３１アイスクリームの2023年の売上を予測します。\n",
        "\n"
      ],
      "metadata": {
        "id": "DZ-OZ_0LTrzx"
      }
    },
    {
      "cell_type": "code",
      "source": [
        "import numpy as np\n",
        "import pandas as pd\n",
        "import tensorflow as tf\n",
        "from sklearn.preprocessing import MinMaxScaler\n",
        "from tensorflow.keras.models import Sequential\n",
        "from tensorflow.keras.layers import LSTM, Dense\n",
        "from tensorflow.keras.optimizers import Adam,RMSprop\n",
        "from tensorflow.keras.layers import Dropout\n",
        "from tensorflow.keras.callbacks import EarlyStopping\n",
        "from tensorflow.keras.regularizers import l2\n",
        "np.random.seed(42)\n",
        "tf.random.set_seed(42)\n",
        "\n",
        "# 四半期ごとの売上データの読み込み\n",
        "quarterly_sales = pd.read_csv(\"/成果物作成/202406～/売上データ_データ拡張後.csv\", encoding='utf-8').values\n",
        "\n",
        "# 四半期ごとの売上データのスケーリング\n",
        "scaler_quarterly = MinMaxScaler()\n",
        "quarterly_sales_scaled = scaler_quarterly.fit_transform(quarterly_sales.reshape(-1, 1))\n",
        "quarterly_sales_scaled_df = pd.DataFrame(data=quarterly_sales_scaled, columns=['四半期売上'])\n",
        "\n",
        "# 月次の気温データの正規化\n",
        "scaler = MinMaxScaler()\n",
        "monthly_temperature_scaled = scaler.fit_transform(df['最高気温(℃)の平均'].to_numpy().reshape(-1, 1))\n",
        "monthly_temperature_scaled_df = pd.DataFrame(data=monthly_temperature_scaled, columns=['最高気温(℃)の平均'])\n",
        "\n",
        "# 月次の消費データの正規化\n",
        "scaler = MinMaxScaler()\n",
        "monthly_consumption_scaled = scaler.fit_transform(df['アイスクリーム・シャーベットの消費'].to_numpy().reshape(-1, 1))\n",
        "monthly_consumption_scaled_df = pd.DataFrame(data=monthly_consumption_scaled, columns=['アイスクリーム・シャーベットの消費'])\n",
        "\n",
        "# アプリ会員数データの正規化\n",
        "# 文字列型に変換\n",
        "apli_members['アプリ会員数'] = apli_members['アプリ会員数'].astype(str)\n",
        "# 'アプリ会員数'列が文字列型の場合のみ、カンマの除去と空白のトリムを行い、数値型に変換\n",
        "if df['アプリ会員数'].dtype == 'object':\n",
        "    df['アプリ会員数'] = df['アプリ会員数'].str.replace(',', '').str.strip().astype(float)\n",
        "scaler = MinMaxScaler()\n",
        "apli_members_scaled = scaler.fit_transform(df['アプリ会員数'].to_numpy().reshape(-1, 1))\n",
        "apli_members_scaled_df = pd.DataFrame(data=apli_members_scaled, columns=['アプリ会員数'])\n",
        "\n",
        "\n",
        "# インデックスをリセット\n",
        "monthly_consumption_scaled_df.reset_index(drop=True, inplace=True)\n",
        "monthly_temperature_scaled_df.reset_index(drop=True, inplace=True)\n",
        "apli_members_scaled_df.reset_index(drop=True, inplace=True)\n",
        "# thirty_one_flag.reset_index(drop=True, inplace=True)\n",
        "\n",
        "df = pd.concat([monthly_consumption_scaled_df, monthly_temperature_scaled_df,apli_members_scaled_df], axis=1)\n",
        "\n",
        "# LSTMモデルに入力するための形状変換\n",
        "time_steps = 3  # 3か月分を1つのデータポイントとする\n",
        "X_lstm = []\n",
        "y_sales = []\n",
        "\n",
        "monthly_data = df\n",
        "\n",
        "# 四半期の数を計算\n",
        "num_quarters = len(quarterly_sales_scaled)\n",
        "\n",
        "# 最後の3か月を無視してインデックスエラーを回避\n",
        "for i in range(0, len(monthly_data) - time_steps + 1, time_steps):\n",
        "    if (i // time_steps) < num_quarters:  # 四半期の数を超えないようにする\n",
        "        X_lstm.append(df.iloc[i:i + time_steps].values)\n",
        "        # 対応する四半期の売上データを取得\n",
        "        quarter_index = i // time_steps  # 3か月ごとに売上データが1つずつあるため、インデックスを計算\n",
        "        y_sales.append(quarterly_sales_scaled[quarter_index])\n",
        "    else:\n",
        "        break  # 範囲外に出たらループを終了\n",
        "\n",
        "X_lstm = np.array(X_lstm)\n",
        "y_sales = np.array(y_sales)\n",
        "\n",
        "# 時系列データを訓練データとテストデータに分割する\n",
        "split_index = 56 #データが2009_1～2023_4(60個)あるので、2023_4までの56個のデータを訓練に使う\n",
        "\n",
        "X_train, X_test = X_lstm[:split_index], X_lstm[split_index:]\n",
        "y_train, y_test = y_sales[:split_index], y_sales[split_index:]\n",
        "\n",
        "\n",
        "# LSTMモデルの構築\n",
        "model = Sequential()\n",
        "model.add(LSTM(32,activation='relu', input_shape=(time_steps, 3), return_sequences=True))\n",
        "model.add(Dropout(0.1))  # 10%のドロップアウト\n",
        "model.add(LSTM(32,activation='relu', input_shape=(time_steps, 3), return_sequences=True))\n",
        "model.add(Dropout(0.1))  # 10%のドロップアウト\n",
        "\n",
        "model.add(LSTM(32,))\n",
        "model.add(Dropout(0.1))\n",
        "model.add(Dense(1))\n",
        "\n",
        "model.compile(optimizer=RMSprop(learning_rate=0.001), loss='mean_squared_error')\n",
        "early_stopping = EarlyStopping(monitor='val_loss', patience=100, restore_best_weights=True)\n",
        "\n",
        "# モデルの訓練\n",
        "history = model.fit(X_train, y_train, epochs=300, batch_size=4, validation_data=(X_test, y_test), callbacks=[early_stopping]) #パッチサイズを(１年分)とした\n",
        "\n",
        "# 学習の履歴を取得\n",
        "history = history.history\n",
        "\n",
        "plt.plot(history['loss'],label='loss')\n",
        "plt.plot(history['val_loss'],label='val_loss')\n",
        "plt.title('学習結果（アプリ会員数込）')\n",
        "plt.xlabel('epoch')  # X軸のラベル\n",
        "plt.ylabel('mean_squared_error')  # Y軸のラベル\n",
        "plt.legend()\n",
        "# PNGとして保存\n",
        "plt.savefig('LSTM_training.png')\n",
        "plt.show()"
      ],
      "metadata": {
        "id": "iWoiddU0CNrj"
      },
      "execution_count": null,
      "outputs": []
    },
    {
      "cell_type": "markdown",
      "source": [],
      "metadata": {
        "id": "ePXtEIEIYhIp"
      }
    },
    {
      "cell_type": "markdown",
      "source": [
        "\n",
        "![LSTMモデルによる学習](https://github.com/yndtky/portforio/blob/main/LSTM_training_2.png?raw=true)"
      ],
      "metadata": {
        "id": "EXchLyN3G0sN"
      }
    },
    {
      "cell_type": "markdown",
      "source": [
        "終始ギザギザしていますが、概ね200epochくらいから安定してきています。"
      ],
      "metadata": {
        "id": "SEpdai57Wicx"
      }
    },
    {
      "cell_type": "code",
      "source": [
        "quarters = ['2023_1', '2023_2', '2023_3', '2023_4']\n",
        "plt.plot(quarters,y_pred_inverse,label='predicted_sales')\n",
        "plt.plot(quarters,y_test_inverse,label='actual_sales')\n",
        "plt.title('売上予測（アプリ会員数込）')\n",
        "plt.legend()\n",
        "plt.show()"
      ],
      "metadata": {
        "id": "-QWMPZ-tH8j5"
      },
      "execution_count": null,
      "outputs": []
    },
    {
      "cell_type": "markdown",
      "source": [
        "\n",
        "![LSTMモデルによる予測](https://github.com/yndtky/portforio/blob/main/LSTM_prediction_4.png?raw=true)"
      ],
      "metadata": {
        "id": "qXIvGwZ5KJtc"
      }
    },
    {
      "cell_type": "markdown",
      "source": [
        "2023年の売上予測になります。\n",
        "\n",
        "2023Q4 (2023/10～2023/12) の予測がやや上振れする結果になりました。\n",
        "\n",
        "--------------------------------------------------------------------------------"
      ],
      "metadata": {
        "id": "DYactVDLXXaY"
      }
    },
    {
      "cell_type": "markdown",
      "source": [
        "**ここから下はアプリなし版の予測モデルについてです**"
      ],
      "metadata": {
        "id": "9vYUTU8ZLO1Y"
      }
    },
    {
      "cell_type": "code",
      "source": [
        "import numpy as np\n",
        "import pandas as pd\n",
        "import tensorflow as tf\n",
        "from sklearn.preprocessing import MinMaxScaler\n",
        "from tensorflow.keras.models import Sequential\n",
        "from tensorflow.keras.layers import LSTM, Dense\n",
        "from tensorflow.keras.optimizers import Adam,RMSprop\n",
        "from tensorflow.keras.layers import Dropout\n",
        "from tensorflow.keras.callbacks import EarlyStopping\n",
        "from tensorflow.keras.regularizers import l2\n",
        "np.random.seed(42)\n",
        "tf.random.set_seed(42)\n",
        "\n",
        "# 四半期ごとの売上データの読み込み\n",
        "quarterly_sales = pd.read_csv(\"/成果物作成/202406～/売上データ_データ拡張後.csv\", encoding='utf-8').values\n",
        "\n",
        "# 四半期ごとの売上データのスケーリング\n",
        "scaler_quarterly = MinMaxScaler()\n",
        "quarterly_sales_scaled = scaler_quarterly.fit_transform(quarterly_sales.reshape(-1, 1))\n",
        "quarterly_sales_scaled_df = pd.DataFrame(data=quarterly_sales_scaled, columns=['四半期売上'])\n",
        "\n",
        "\n",
        "# 月次の気温データの正規化\n",
        "scaler = MinMaxScaler()\n",
        "monthly_temperature_scaled = scaler.fit_transform(df['最高気温(℃)の平均'].to_numpy().reshape(-1, 1))\n",
        "monthly_temperature_scaled_df = pd.DataFrame(data=monthly_temperature_scaled, columns=['最高気温(℃)の平均'])\n",
        "\n",
        "# 月次の消費データの正規化\n",
        "scaler = MinMaxScaler()\n",
        "monthly_consumption_scaled = scaler.fit_transform(df['アイスクリーム・シャーベットの消費'].to_numpy().reshape(-1, 1))\n",
        "monthly_consumption_scaled_df = pd.DataFrame(data=monthly_consumption_scaled, columns=['アイスクリーム・シャーベットの消費'])\n",
        "\n",
        "# インデックスをリセット\n",
        "monthly_consumption_scaled_df.reset_index(drop=True, inplace=True)\n",
        "monthly_temperature_scaled_df.reset_index(drop=True, inplace=True)\n",
        "apli_members_scaled_df.reset_index(drop=True, inplace=True)\n",
        "\n",
        "df = pd.concat([monthly_consumption_scaled_df, monthly_temperature_scaled_df]\n",
        "               # ,apli_members_scaled_df\n",
        "               , axis=1)\n",
        "\n",
        "# LSTMモデルに入力するための形状変換\n",
        "time_steps = 3  # 3か月分を1つのデータポイントとする\n",
        "X_lstm_without_app = []\n",
        "y_sales_without_app = []\n",
        "\n",
        "monthly_data = df\n",
        "\n",
        "# 四半期の数を計算\n",
        "num_quarters = len(quarterly_sales_scaled)\n",
        "\n",
        "# 最後の3か月を無視してインデックスエラーを回避\n",
        "for i in range(0, len(monthly_data) - time_steps + 1, time_steps):\n",
        "    if (i // time_steps) < num_quarters:  # 四半期の数を超えないようにする\n",
        "        X_lstm_without_app.append(df.iloc[i:i + time_steps].values)\n",
        "        # 対応する四半期の売上データを取得\n",
        "        quarter_index = i // time_steps  # 3か月ごとに売上データが1つずつあるため、インデックスを計算\n",
        "        y_sales_without_app.append(quarterly_sales_scaled[quarter_index])\n",
        "    else:\n",
        "        break  # 範囲外に出たらループを終了\n",
        "\n",
        "X_lstm_without_app = np.array(X_lstm_without_app)\n",
        "y_sales_without_app = np.array(y_sales_without_app)\n",
        "\n",
        "# 時系列データを訓練データとテストデータに分割する\n",
        "split_index = 56 #データが2009_1～2023_4(60個)あるので、2022_4までの56個のデータを訓練に使う\n",
        "\n",
        "X_train_without_app, X_test_without_app = X_lstm_without_app[:split_index], X_lstm_without_app[split_index:]\n",
        "y_train_without_app, y_test_without_app = y_sales_without_app[:split_index], y_sales_without_app[split_index:]\n",
        "\n",
        "\n",
        "# LSTMモデルの構築\n",
        "model_without_app = Sequential()\n",
        "model_without_app.add(LSTM(32,activation='relu', input_shape=(time_steps, 2), return_sequences=True))\n",
        "model_without_app.add(Dropout(0.1))  # 10%のドロップアウト\n",
        "model_without_app.add(LSTM(32,activation='relu', input_shape=(time_steps, 2), return_sequences=True))\n",
        "model_without_app.add(Dropout(0.1))  # 10%のドロップアウト\n",
        "\n",
        "model_without_app.add(LSTM(32,))\n",
        "model_without_app.add(Dropout(0.1))\n",
        "model_without_app.add(Dense(1))\n",
        "\n",
        "model_without_app.compile(optimizer=RMSprop(learning_rate=0.001), loss='mean_squared_error')\n",
        "early_stopping = EarlyStopping(monitor='val_loss', patience=100, restore_best_weights=True)\n",
        "\n",
        "# モデルの訓練\n",
        "history_without_app = model_without_app.fit(X_train_without_app, y_train_without_app, epochs=300, batch_size=4, validation_data=(X_test_without_app, y_test_without_app), callbacks=[early_stopping]) #パッチサイズを(１年分)とした\n",
        "\n",
        "# 学習の履歴を取得\n",
        "history_without_app = history_without_app.history\n",
        "\n",
        "plt.plot(history_without_app['loss'],label='loss_without_app')\n",
        "plt.plot(history_without_app['val_loss'],label='val_loss_without_app')\n",
        "plt.legend()\n",
        "plt.show()"
      ],
      "metadata": {
        "id": "JUlwziuoKu4j"
      },
      "execution_count": null,
      "outputs": []
    },
    {
      "cell_type": "markdown",
      "source": [
        "\n",
        "![LSTMモデルによる学習_アプリなし](https://github.com/yndtky/portforio/blob/main/LSTM_training_without_app_3.png?raw=true)"
      ],
      "metadata": {
        "id": "5SRgp_O_Ls8v"
      }
    },
    {
      "cell_type": "code",
      "source": [
        "# 予測と評価\n",
        "y_pred_without_app = model_without_app.predict(X_test_without_app)\n",
        "y_pred_inverse_without_app = scaler_quarterly.inverse_transform(y_pred_without_app)\n",
        "y_test_inverse = scaler_quarterly.inverse_transform(y_test_without_app)\n",
        "\n",
        "# 結果の表示\n",
        "print(\"予測値:\", y_pred_inverse_without_app)\n",
        "print(\"実際の値:\", y_test_inverse)\n"
      ],
      "metadata": {
        "id": "5LyFtWPTM1r_"
      },
      "execution_count": null,
      "outputs": []
    },
    {
      "cell_type": "code",
      "source": [
        "quarters = ['2023_1', '2023_2', '2023_3', '2023_4']\n",
        "plt.plot(quarters,y_pred_inverse_without_app,label='predicted_sales_without_app')\n",
        "plt.plot(quarters,y_test_inverse,label='actual_sales')\n",
        "plt.legend()\n",
        "# PNGとして保存\n",
        "plt.savefig('LSTM_prediction_without_app.png')\n",
        "plt.show()"
      ],
      "metadata": {
        "id": "BEiou1F8NKQU"
      },
      "execution_count": null,
      "outputs": []
    },
    {
      "cell_type": "markdown",
      "source": [
        "\n",
        "![LSTMモデルによる予測_アプリなし](https://github.com/yndtky/portforio/blob/main/LSTM_prediction_without_app_3.png?raw=true)"
      ],
      "metadata": {
        "id": "sRnsC_zZNwn8"
      }
    },
    {
      "cell_type": "code",
      "source": [
        "import matplotlib.ticker as ticker\n",
        "import japanize_matplotlib\n",
        "quarters = ['2023Q1', '2023Q2', '2023Q3', '2023Q4']\n",
        "plt.plot(quarters,y_test_inverse,label='actual_sales')\n",
        "plt.plot(quarters,y_pred_inverse,label='predicted_sales')\n",
        "plt.plot(quarters,y_pred_inverse_without_app,label='predicted_sales_without_app')\n",
        "plt.title('アイスクリームの売上予測（単位：10億円）')\n",
        "plt.legend()\n",
        "# PNGとして保存\n",
        "plt.savefig('LSTM_prediction_merge.png')\n",
        "plt.show()"
      ],
      "metadata": {
        "id": "BDtjNNoS00en"
      },
      "execution_count": null,
      "outputs": []
    },
    {
      "cell_type": "markdown",
      "source": [
        "\n",
        "![LSTMモデルによる予測_結合](https://github.com/yndtky/portforio/blob/main/LSTM_prediction_merge_2.png?raw=true)"
      ],
      "metadata": {
        "id": "vEiTLFfKOMNS"
      }
    },
    {
      "cell_type": "markdown",
      "source": [
        "最終結果になります。売上実績（青線）に対し、アプリ込みモデルの予測（オレンジ）が良い近似になっています。一方で、アプリなしモデル（緑）では一年を通じて予測が下ぶれています。アプリ会員数の増加と売上増加は因果関係にあるかどうかはわかりませんが、会員数が売上予測に寄与していることは読み取れそうです。"
      ],
      "metadata": {
        "id": "QHPLQKUwPAeZ"
      }
    },
    {
      "cell_type": "code",
      "source": [],
      "metadata": {
        "id": "UJ6r9ar3CvDN"
      },
      "execution_count": null,
      "outputs": []
    }
  ]
}