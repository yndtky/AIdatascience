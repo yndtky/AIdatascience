{
  "nbformat": 4,
  "nbformat_minor": 0,
  "metadata": {
    "colab": {
      "provenance": [],
      "authorship_tag": "ABX9TyO8B1Efw3aH7Xcy08C0PPxX",
      "include_colab_link": true
    },
    "kernelspec": {
      "name": "python3",
      "display_name": "Python 3"
    },
    "language_info": {
      "name": "python"
    }
  },
  "cells": [
    {
      "cell_type": "markdown",
      "metadata": {
        "id": "view-in-github",
        "colab_type": "text"
      },
      "source": [
        "<a href=\"https://colab.research.google.com/github/yndtky/portforio/blob/main/%E3%82%A2%E3%82%A4%E3%82%B9%E3%82%AF%E3%83%AA%E3%83%BC%E3%83%A0%E3%81%AE%E5%A3%B2%E4%B8%8A%E4%BA%88%E6%B8%AC%E3%81%A8%E6%96%BD%E7%AD%96%E6%8F%90%E6%A1%88.ipynb\" target=\"_parent\"><img src=\"https://colab.research.google.com/assets/colab-badge.svg\" alt=\"Open In Colab\"/></a>"
      ]
    },
    {
      "cell_type": "markdown",
      "source": [
        "時系列モデルを活用した売上予測を行ないます。\n",
        "\n",
        "今回はkerasを使って３１アイスクリームの売上高の時系列予測を行ない、予測結果からマーケティング施策の提案を行ってみたいと思います。"
      ],
      "metadata": {
        "id": "Z1ksTLcszRd7"
      }
    },
    {
      "cell_type": "markdown",
      "source": [
        "この成果物の目的は下記２点です\n",
        "\n",
        "\n",
        "1.   深層学習フレームワークkerasを使った時系列予測をやってみたかった\n",
        "2.   予測結果からビジネス視点で何か提案することはできないかと思った\n",
        "\n",
        "\n"
      ],
      "metadata": {
        "id": "cnSGL34wz92g"
      }
    },
    {
      "cell_type": "markdown",
      "source": [
        "この成果物の流れは次のようになっています。\n",
        "\n",
        "\n",
        "*   **分析編**\n",
        "  *   使用データと分析環境\n",
        "  *   売上データの特徴\n",
        "  *   作成の流れ\n",
        "  *   予測結果\n",
        "  *   分析編の結論\n",
        "*   **マーケディング編**\n",
        "  *   アプリ会員者数の推移とこれまでの施策\n",
        "  *   対象にする顧客層\n",
        "  *   施策提案\n",
        "*   **工夫点や苦労点など**\n",
        "\n",
        "\n",
        "\n"
      ],
      "metadata": {
        "id": "0Q1XYdkI0j3f"
      }
    },
    {
      "cell_type": "markdown",
      "source": [
        "**第一部：分析編**"
      ],
      "metadata": {
        "id": "oHWlH6_V13mm"
      }
    },
    {
      "cell_type": "markdown",
      "source": [
        "\n",
        "\n",
        "**使用データと分析環境**\n",
        "\n",
        "・ここでは31アイスの売上の時系列予測を行なうにあたり、どのようなデータを準備したのかについてまとめます。\n",
        "\n",
        "・（）の中はデータの取得タイミングと取得元です。\n",
        "\n",
        "・今回はkerasを勉強するところから始まったことなどもあり、最新の売上予測になっていません。\n",
        "*   **目的変数**：31アイスの売上データ（四半期ごと、[31アイスHP](https://www.31ice.co.jp/contents/company/ir/index.html)）\n",
        "*   **説明変数**：\n",
        "  *   31Club*の会員者数（四半期ごと、[31アイスHP](https://www.31ice.co.jp/contents/company/ir/index.html)）\n",
        "  *   東京都の消費支出データ（月ごと、[都民のくらしむき（月報）（年報）](https://www.toukei.metro.tokyo.lg.jp/seikei/sb-index.htm) 内の品目別時系列データ）\n",
        "  *   東京都の最高気温データ（月ごと、[気象庁HP](https://www.data.jma.go.jp/obd/stats/etrn/view/monthly_s3.php?prec_no=44&block_no=47662&year=&month=&day=&view=a2)）\n",
        "*   データの使用期間：2014年～2023年\n",
        "*   環境や分析ツールなど：使用言語Python、深層学習フレームワークkerasを使った時系列予測\n",
        "\n",
        "※31Clubとは31アイスの会員制アプリのことであり、各種クーポンなど様々なサービスが受けられます。\n"
      ],
      "metadata": {
        "id": "MoDoxQQZ2EeP"
      }
    },
    {
      "cell_type": "markdown",
      "source": [
        "ここで、今回予測する売上データについて少し見てみます。どのような特徴があるでしょうか。"
      ],
      "metadata": {
        "id": "XXMubQC6CDeg"
      }
    },
    {
      "cell_type": "markdown",
      "source": [
        "![説明文](main/31_quaterly_sales.png.jpg)\n"
      ],
      "metadata": {
        "id": "gMdAd_BevX8i"
      }
    },
    {
      "cell_type": "markdown",
      "source": [],
      "metadata": {
        "id": "IDtYjb0Jy2q0"
      }
    },
    {
      "cell_type": "markdown",
      "source": [
        "次に、東京都の公開している統計データ（都民のくらしむき（年報）の品目別時系列データ）からアイスクリーム・シャーベットの行を抜き出し、結合してアイスクリーム・シャーベットの消費支出データを作成します。"
      ],
      "metadata": {
        "id": "MoWFMkqpyzlu"
      }
    },
    {
      "cell_type": "code",
      "source": [
        "#データの前処理\n",
        "import pandas as pd\n",
        "import numpy as np\n",
        "import glob\n",
        "import os\n",
        "import matplotlib.pyplot as plt\n",
        "\n",
        "folder_path = \"/デスクトップ/ファイル/成果物作成/消費データ\"\n",
        "\n",
        "# フォルダ内のすべてのExcelファイルを検索\n",
        "excel_files = glob.glob(os.path.join(folder_path, '*.xlsx'))\n",
        "\n",
        "# 空のリストを用意して、必要なデータを格納\n",
        "extracted_data = []\n",
        "\n",
        "# すべてのExcelファイルを読み込み、条件に合致するデータを抽出してリストに追加\n",
        "for file in excel_files:\n",
        "    df = pd.read_excel(file)\n",
        "\n",
        "    # 左から5番目の列を使用して条件をチェック\n",
        "    if df.shape[1] > 4:  # 列数が5以上か確認\n",
        "        condition_rows = df[df.iloc[:, 4] == 'アイスクリーム・シャーベット']\n",
        "\n",
        "        # 条件に合致する行の左から9列目から20列目の値を抽出し、データフレームとしてリストに追加\n",
        "        for _, row in condition_rows.iterrows():\n",
        "            extracted_data.append(row.iloc[8:20].to_frame())\n",
        "    else:\n",
        "        print(f\"The file {file} does not have enough columns.\")\n",
        "\n",
        "# 抽出したデータフレームを列方向に結合\n",
        "if extracted_data:\n",
        "    combined_df = pd.concat(extracted_data, axis=1, ignore_index=True)\n",
        "else:\n",
        "    combined_df = pd.DataFrame()\n",
        "# 最終行を除いたデータフレームを作成\n",
        "if not combined_df.empty:\n",
        "    combined_df = combined_df.iloc[:-1, :]\n",
        "else:\n",
        "    combined_df = pd.DataFrame()\n",
        "combined_df.iloc[0,18]=499\n",
        "# 結果を表示\n",
        "print(combined_df)"
      ],
      "metadata": {
        "id": "6Lr1ulum0a5B"
      },
      "execution_count": null,
      "outputs": []
    }
  ]
}